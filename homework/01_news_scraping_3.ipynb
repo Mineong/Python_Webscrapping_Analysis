{
 "cells": [
  {
   "cell_type": "markdown",
   "id": "948f0360",
   "metadata": {},
   "source": [
    "## 3-1. 네이버 책 검색 API 호출하기 (필수)"
   ]
  },
  {
   "cell_type": "code",
   "execution_count": 58,
   "id": "c9d682df",
   "metadata": {},
   "outputs": [],
   "source": [
    "import requests\n",
    "\n",
    "client_id = 'cxhjKFtQtK2zIONcsRfH'\n",
    "client_secret = 'JNcHDKGNjg'\n",
    "\n",
    "headers = {\n",
    "    'X-Naver-Client-Id': client_id,\n",
    "    'X-Naver-Client-Secret': client_secret\n",
    "}\n",
    "\n",
    "def search_books(query):\n",
    "    url = \"https://openapi.naver.com/v1/search/book.json\"  \n",
    "\n",
    "    params = {\n",
    "        'query': query,      \n",
    "        'display': 50,       \n",
    "        'sort': 'sim'        \n",
    "    }\n",
    "\n",
    "    res = requests.get(url, headers=headers, params=params)  \n",
    "    \n",
    "    if res.status_code == 200:   \n",
    "        result = res.json()      \n",
    "        return result['items']   \n",
    "    else:\n",
    "        print(\"error code: \", res.status_code)\n",
    "        return []\n"
   ]
  },
  {
   "cell_type": "markdown",
   "id": "dad25a94",
   "metadata": {},
   "source": [
    "### 1. 질문 :  검색어로  찾은  책 목록을 json 파일로 저장하기"
   ]
  },
  {
   "cell_type": "code",
   "execution_count": 59,
   "id": "55dfb09d",
   "metadata": {},
   "outputs": [],
   "source": [
    "import os\n",
    "import json\n",
    "\n",
    "def save_to_json(data, filename):\n",
    "   \n",
    "    folder = os.path.dirname(filename)\n",
    "    \n",
    "    if folder and not os.path.exists(folder):\n",
    "        os.makedirs(folder)\n",
    "\n",
    "    with open(filename, 'w', encoding='utf-8') as f:\n",
    "        json.dump(data, f, ensure_ascii=False, indent=4)\n",
    "\n"
   ]
  },
  {
   "cell_type": "code",
   "execution_count": 60,
   "id": "f7094374",
   "metadata": {},
   "outputs": [],
   "source": [
    "books = search_books(\"파이썬\")\n",
    "save_to_json(books, \"data/books.json\")  "
   ]
  },
  {
   "cell_type": "markdown",
   "id": "4556dbe2",
   "metadata": {},
   "source": [
    "### 2. books.json 파일을 Pandas DataFrame로 저장하기"
   ]
  },
  {
   "cell_type": "code",
   "execution_count": 61,
   "id": "8dd89f86",
   "metadata": {},
   "outputs": [],
   "source": [
    "import os\n",
    "import json\n",
    "import pandas as pd\n",
    "\n",
    "def save_to_json(data, filename):\n",
    "    \n",
    "    folder = os.path.dirname(filename)\n",
    "    \n",
    "    if folder and not os.path.exists(folder):\n",
    "        os.makedirs(folder)\n",
    "        \n",
    "    with open(filename, 'w', encoding='utf-8') as f:\n",
    "        json.dump(data, f, ensure_ascii=False, indent=4)\n"
   ]
  },
  {
   "cell_type": "markdown",
   "id": "65a03461",
   "metadata": {},
   "source": [
    "### 3. 질문 :  검색어로  찾은  책 목록 출력하기"
   ]
  },
  {
   "cell_type": "code",
   "execution_count": 62,
   "id": "332730b1",
   "metadata": {},
   "outputs": [
    {
     "name": "stdout",
     "output_type": "stream",
     "text": [
      "                                               title  \\\n",
      "0  혼자 만들면서 공부하는 파이썬 (37개 라이브러리와 API로 보고서, 차트, 게임,...   \n",
      "1               혼자 공부하는 파이썬 (1:1 과외하듯 배우는 프로그래밍 자습서)   \n",
      "2           Do it! 점프 투 파이썬 (중학생도 첫날부터 실습하는 초고속 입문서)   \n",
      "3     밑바닥부터 시작하는 딥러닝 1(리마스터판) (파이썬으로 익히는 딥러닝 이론과 구현)   \n",
      "4                                                파이썬   \n",
      "\n",
      "                                                link  \\\n",
      "0  https://search.shopping.naver.com/book/catalog...   \n",
      "1  https://search.shopping.naver.com/book/catalog...   \n",
      "2  https://search.shopping.naver.com/book/catalog...   \n",
      "3  https://search.shopping.naver.com/book/catalog...   \n",
      "4  https://search.shopping.naver.com/book/catalog...   \n",
      "\n",
      "                                               image  author  discount  \\\n",
      "0  https://shopping-phinf.pstatic.net/main_528593...     문현일     23400   \n",
      "1  https://shopping-phinf.pstatic.net/main_325076...     윤인성     19800   \n",
      "2  https://shopping-phinf.pstatic.net/main_403540...     박응용     19800   \n",
      "3  https://shopping-phinf.pstatic.net/main_526155...  사이토 고키     23400   \n",
      "4  https://shopping-phinf.pstatic.net/main_324609...     홍의경     29440   \n",
      "\n",
      "  publisher   pubdate           isbn  \\\n",
      "0     한빛미디어  20250214  9791169213271   \n",
      "1     한빛미디어  20220601  9791162245651   \n",
      "2   이지스퍼블리싱  20230615  9791163034735   \n",
      "3     한빛미디어  20250124  9791169213387   \n",
      "4      생능출판  20220309  9788970506784   \n",
      "\n",
      "                                         description  \n",
      "0  “파이썬을 배워서 어디에 활용할 수 있을지 궁금했나요?”\\n나의 신용카드 내역 분석...  \n",
      "1  혼자 해도 충분하다! 1:1 과외하듯 배우는 파이썬 프로그래밍 자습서\\n\\n『혼자 ...  \n",
      "2  프로그래밍 분야 8년 연속 베스트셀러!\\n《Do it! 점프 투 파이썬》 전면 개정...  \n",
      "3  딥러닝 분야 부동의 베스트셀러!\\n머리로 이해하고 손으로 익히는 가장 쉬운 딥러닝 ...  \n",
      "4  코딩 실력을 키우는 지름길은 실습이다.\\n\\n2008년 즈음에 검인정 중학교 교과서...  \n"
     ]
    }
   ],
   "source": [
    "import pandas as pd\n",
    "\n",
    "df = pd.read_json(\"data/books.json\")  \n",
    "print(df.head())                      \n"
   ]
  },
  {
   "cell_type": "markdown",
   "id": "23535507",
   "metadata": {},
   "source": [
    "### 4. 질문 :  검색어로  찾은  책 목록 중에서 가격이 2만원 이상인 책만 출력하기"
   ]
  },
  {
   "cell_type": "code",
   "execution_count": 63,
   "id": "bb735366",
   "metadata": {},
   "outputs": [
    {
     "name": "stdout",
     "output_type": "stream",
     "text": [
      "                                                title           author  \\\n",
      "0                   으뜸 파이썬 (프로그래밍을 사랑하는 두 교수가 작정하고 쓴)          박동규^강영민   \n",
      "1                                                 파이썬  Y. Daniel Liang   \n",
      "2                                        으뜸 파이썬 (개정판)          박동규^강영민   \n",
      "3                            파이썬 마스터 (실생활 융합 예제로 배우는)          김종훈^김동건   \n",
      "4   파이썬 머신러닝 완벽 가이드 (다양한 캐글 예제와 함께 기초 알고리즘부터 최신 기법...              권철민   \n",
      "5                                                 파이썬              홍의경   \n",
      "6                                              독학 파이썬         야마다 요시히로   \n",
      "7                                             새내기 파이썬              천인국   \n",
      "8                                             파이썬의 정석          조용주^임좌상   \n",
      "9                    디딤돌 파이썬 (구조적 프로그래밍으로 설명한 파이썬 기초)              이찬수   \n",
      "10                     파이썬 + AI (코드조각과 실행화면으로 배우는 코딩)          안용제^김남규   \n",
      "11                          파이썬의 신 (프로그래밍 언어를 배운다는 것)              김주현   \n",
      "12                    내공의 파이썬 (한 권으로 끝내는 초보자용 코딩 입문서)              한선관   \n",
      "13                                            파이썬 플러스              최희식   \n",
      "14                                                파이썬              김영천   \n",
      "15     밑바닥부터 시작하는 딥러닝 1(리마스터판) (파이썬으로 익히는 딥러닝 이론과 구현)           사이토 고키   \n",
      "16                                       파이썬 연습 (개정판)              김기용   \n",
      "17  혼자 만들면서 공부하는 파이썬 (37개 라이브러리와 API로 보고서, 차트, 게임,...              문현일   \n",
      "18                             파이썬 프로그래밍 (기초부터 딥러닝까지)               허준   \n",
      "19                              엑셀X파이썬 (엑셀이 파이썬을 품었다)              정성일   \n",
      "20                          파이썬 입문 (3step으로 확실하게 배우는)  야마다 요시히로^야마다 나미   \n",
      "21                         파이썬 (다양한 예제로 알로리즘 쉽게 분석하기)              김유진   \n",
      "22   코딩 자율학습 나도코딩의 파이썬 입문 (초보자 눈높이에 맞춘 친절한 프로그래밍 자습서)             나도코딩   \n",
      "23                                      파이썬을 이용한 통계수학              권세혁   \n",
      "24                             파이썬 올인원 (기초부터 데이터분석까지)          이지민^임희경   \n",
      "\n",
      "    discount publisher   pubdate  \n",
      "0      31680      생능출판  20200217  \n",
      "1      31500     에피스테메  20180302  \n",
      "2      31280      생능출판  20240614  \n",
      "3      31040    한빛아카데미  20250117  \n",
      "4      29800      위키북스  20220421  \n",
      "5      29440      생능출판  20220309  \n",
      "6      28800     정보문화사  20241220  \n",
      "7      27600      생능출판  20220630  \n",
      "8      26820     길벗캠퍼스  20230110  \n",
      "9      26100    인피니티북스  20220823  \n",
      "10     25200     디지털북스  20240715  \n",
      "11     24300       로드북  20161223  \n",
      "12     24300    자유아카데미  20250315  \n",
      "13     23750    인피니티북스  20240731  \n",
      "14     23750       기한재  20200225  \n",
      "15     23400     한빛미디어  20250124  \n",
      "16     23400        그린  20220225  \n",
      "17     23400     한빛미디어  20250214  \n",
      "18     22500       성안당  20250312  \n",
      "19     22500        길벗  20240730  \n",
      "20     22500    시그마프레스  20210105  \n",
      "21     22500        다본  20190410  \n",
      "22     21600        길벗  20230220  \n",
      "23     21560    자유아카데미  20250315  \n",
      "24     20700     연두에디션  20230904  \n"
     ]
    }
   ],
   "source": [
    "expensive_books = df[df['discount'] >= 20000]  \n",
    "expensive_books = expensive_books[['title', 'author', 'discount', 'publisher', 'pubdate']]  \n",
    "expensive_books = expensive_books.sort_values(by='discount', ascending=False).reset_index(drop=True)  \n",
    "\n",
    "print(expensive_books)\n"
   ]
  },
  {
   "cell_type": "markdown",
   "id": "94a43c82",
   "metadata": {},
   "source": [
    "### 6. 질문 :  검색어로  찾은  책 목록 중에서 출판사가 인피니티북스인 책만 출력하기"
   ]
  },
  {
   "cell_type": "code",
   "execution_count": 64,
   "id": "5306bdce",
   "metadata": {},
   "outputs": [
    {
     "name": "stdout",
     "output_type": "stream",
     "text": [
      "                              title  \\\n",
      "0                               파이썬   \n",
      "1                           파이썬 플러스   \n",
      "2  디딤돌 파이썬 (구조적 프로그래밍으로 설명한 파이썬 기초)   \n",
      "\n",
      "                                                link author  discount  \\\n",
      "0  https://search.shopping.naver.com/book/catalog...    천인국     12000   \n",
      "1  https://search.shopping.naver.com/book/catalog...    최희식     23750   \n",
      "2  https://search.shopping.naver.com/book/catalog...    이찬수     26100   \n",
      "\n",
      "  publisher   pubdate           isbn  \n",
      "0    인피니티북스  20170830  9791185578330  \n",
      "1    인피니티북스  20240731  9791192373362  \n",
      "2    인피니티북스  20220823  9791192373058  \n"
     ]
    }
   ],
   "source": [
    "def get_publisher_books(df, publisher_name):\n",
    "    \n",
    "    publisher_books = df[df['publisher'] == publisher_name]\n",
    "    publisher_books = publisher_books.drop(columns=['image', 'description']).reset_index(drop=True)\n",
    "    \n",
    "    return publisher_books\n",
    "\n",
    "infinity_books = get_publisher_books(df, \"인피니티북스\")\n",
    "print(infinity_books)"
   ]
  },
  {
   "cell_type": "markdown",
   "id": "44d1c314",
   "metadata": {},
   "source": [
    "## 3-2. 네이버 쇼핑 검색 API 호출하기 (필수)"
   ]
  },
  {
   "cell_type": "code",
   "execution_count": 65,
   "id": "323dcb26",
   "metadata": {},
   "outputs": [],
   "source": [
    "import requests\n",
    "\n",
    "client_id = 'cxhjKFtQtK2zIONcsRfH'\n",
    "client_secret = 'JNcHDKGNjg'\n",
    "\n",
    "headers = {\n",
    "    'X-Naver-Client-Id': client_id,\n",
    "    'X-Naver-Client-Secret': client_secret\n",
    "}\n",
    "\n",
    "def search_shops(query):\n",
    "    url = \"https://openapi.naver.com/v1/search/shop.json\"  \n",
    "\n",
    "    params = {\n",
    "        'query': query,       \n",
    "        'display': 50,        \n",
    "        'sort': 'sim'         \n",
    "    }\n",
    "\n",
    "    res = requests.get(url, headers=headers, params=params)  \n",
    "    \n",
    "    if res.status_code == 200:   \n",
    "        result = res.json()      \n",
    "        return result['items']   \n",
    "    else:\n",
    "        print(\"error code: \", res.status_code)\n",
    "        return []\n"
   ]
  },
  {
   "cell_type": "markdown",
   "id": "0c3ef65f",
   "metadata": {},
   "source": [
    "### 2. shops.json 파일을 Pandas DataFrame로 저장하기"
   ]
  },
  {
   "cell_type": "code",
   "execution_count": 66,
   "id": "658a5150",
   "metadata": {},
   "outputs": [],
   "source": [
    "import os\n",
    "import json\n",
    "\n",
    "def save_to_json(data, filename):\n",
    "\n",
    "    folder = os.path.dirname(filename)\n",
    "\n",
    "    with open(filename, 'w', encoding='utf-8') as f:\n",
    "        json.dump(data, f, ensure_ascii=False, indent=4)"
   ]
  },
  {
   "cell_type": "code",
   "execution_count": 67,
   "id": "a2487100",
   "metadata": {},
   "outputs": [],
   "source": [
    "shops = search_shops(\"가디건\")\n",
    "save_to_json(shops, \"data/shops.json\")  "
   ]
  },
  {
   "cell_type": "markdown",
   "id": "57503a51",
   "metadata": {},
   "source": [
    "### 3. 질문 :  검색어로  찾은  Shop의 상품  목록 출력하기"
   ]
  },
  {
   "cell_type": "code",
   "execution_count": 68,
   "id": "954cbc7b",
   "metadata": {},
   "outputs": [
    {
     "name": "stdout",
     "output_type": "stream",
     "text": [
      "                                               title  \\\n",
      "0  백화점3-5일배송 폴로 <b>가디건</b> 걸즈 걸스 랄프로렌 꽈배기 블랙 화이트 ...   \n",
      "1  봄 가을 간절기 라운드 루즈핏 크롭 <b>가디건</b> 레드 그린 핑크 화이트 블랙...   \n",
      "2  부드러운 캐시미어 크롭 <b>가디건</b> 숏 라운드 니트<b>가디건</b> 여성 ...   \n",
      "3  [백화점3-5일배송] 폴로 <b>가디건</b> 니트 걸즈 랄프로렌 블랙 화이트 핑크...   \n",
      "4  [국내발송 + 선물포장] 폴로 랄프로렌 여아 아기 코튼 베이비 <b>가디건</b> ...   \n",
      "\n",
      "                                                link  \\\n",
      "0  https://smartstore.naver.com/main/products/667...   \n",
      "1  https://smartstore.naver.com/main/products/546...   \n",
      "2  https://smartstore.naver.com/main/products/482...   \n",
      "3  https://smartstore.naver.com/main/products/845...   \n",
      "4  https://smartstore.naver.com/main/products/945...   \n",
      "\n",
      "                                               image  lprice hprice mallName  \\\n",
      "0  https://shopping-phinf.pstatic.net/main_842166...   64900           나우인뉴욕   \n",
      "1  https://shopping-phinf.pstatic.net/main_830114...   19900           ARUMY   \n",
      "2  https://shopping-phinf.pstatic.net/main_823726...   18900            코이블리   \n",
      "3  https://shopping-phinf.pstatic.net/main_859949...   63900         트위티 155   \n",
      "4  https://shopping-phinf.pstatic.net/main_870040...   69000           리틀데이즈   \n",
      "\n",
      "     productId  productType   brand   maker category1 category2 category3  \\\n",
      "0  84216650390            2  폴로랄프로렌  폴로랄프로렌      패션의류      여성의류       카디건   \n",
      "1  83011442056            2                      패션의류      여성의류       카디건   \n",
      "2  82372678315            2                      패션의류      여성의류       카디건   \n",
      "3  85994962324            2  폴로랄프로렌  폴로랄프로렌      패션의류      여성의류       카디건   \n",
      "4  87004045841            2  폴로랄프로렌  폴로랄프로렌     출산/육아     유아동의류       카디건   \n",
      "\n",
      "  category4  \n",
      "0            \n",
      "1            \n",
      "2            \n",
      "3            \n",
      "4            \n"
     ]
    }
   ],
   "source": [
    "import pandas as pd\n",
    "\n",
    "df = pd.read_json(\"data/shops.json\")  \n",
    "print(df.head())                      \n"
   ]
  },
  {
   "cell_type": "markdown",
   "id": "374b2b67",
   "metadata": {},
   "source": [
    "### 4. 질문 :  검색어로  찾은  Shop의 상품  목록 중에서 가격이 50,000원 이하인 상품만 출력하기\n"
   ]
  },
  {
   "cell_type": "code",
   "execution_count": 69,
   "id": "eeb080f8",
   "metadata": {},
   "outputs": [
    {
     "ename": "KeyError",
     "evalue": "'lprice'",
     "output_type": "error",
     "traceback": [
      "\u001b[1;31m---------------------------------------------------------------------------\u001b[0m",
      "\u001b[1;31mKeyError\u001b[0m                                  Traceback (most recent call last)",
      "\u001b[1;32m~\\AppData\\Local\\Temp\\ipykernel_12400\\1381378474.py\u001b[0m in \u001b[0;36m?\u001b[1;34m()\u001b[0m\n\u001b[0;32m      1\u001b[0m \u001b[0mexpensive_shops\u001b[0m \u001b[1;33m=\u001b[0m \u001b[0mdf\u001b[0m\u001b[1;33m[\u001b[0m\u001b[0mdf\u001b[0m\u001b[1;33m[\u001b[0m\u001b[1;34m'lprice'\u001b[0m\u001b[1;33m]\u001b[0m \u001b[1;33m<=\u001b[0m \u001b[1;36m50000\u001b[0m\u001b[1;33m]\u001b[0m\u001b[1;33m\u001b[0m\u001b[1;33m\u001b[0m\u001b[0m\n\u001b[0;32m      2\u001b[0m \u001b[0mexpensive_shops\u001b[0m \u001b[1;33m=\u001b[0m \u001b[0mexpensive_shops\u001b[0m\u001b[1;33m[\u001b[0m\u001b[1;33m[\u001b[0m\u001b[1;34m'title'\u001b[0m\u001b[1;33m,\u001b[0m \u001b[1;34m'link'\u001b[0m\u001b[1;33m,\u001b[0m \u001b[1;34m'image'\u001b[0m\u001b[1;33m]\u001b[0m\u001b[1;33m]\u001b[0m\u001b[1;33m\u001b[0m\u001b[1;33m\u001b[0m\u001b[0m\n\u001b[1;32m----> 3\u001b[1;33m \u001b[0mexpensive_shops\u001b[0m \u001b[1;33m=\u001b[0m \u001b[0mexpensive_shops\u001b[0m\u001b[1;33m.\u001b[0m\u001b[0msort_values\u001b[0m\u001b[1;33m(\u001b[0m\u001b[0mby\u001b[0m\u001b[1;33m=\u001b[0m\u001b[1;34m'lprice'\u001b[0m\u001b[1;33m,\u001b[0m \u001b[0mascending\u001b[0m\u001b[1;33m=\u001b[0m\u001b[1;32mFalse\u001b[0m\u001b[1;33m)\u001b[0m\u001b[1;33m.\u001b[0m\u001b[0mreset_index\u001b[0m\u001b[1;33m(\u001b[0m\u001b[0mdrop\u001b[0m\u001b[1;33m=\u001b[0m\u001b[1;32mTrue\u001b[0m\u001b[1;33m)\u001b[0m\u001b[1;33m\u001b[0m\u001b[1;33m\u001b[0m\u001b[0m\n\u001b[0m\u001b[0;32m      4\u001b[0m \u001b[1;33m\u001b[0m\u001b[0m\n\u001b[0;32m      5\u001b[0m \u001b[0mprint\u001b[0m\u001b[1;33m(\u001b[0m\u001b[0mexpensive_shops\u001b[0m\u001b[1;33m)\u001b[0m\u001b[1;33m\u001b[0m\u001b[1;33m\u001b[0m\u001b[0m\n",
      "\u001b[1;32mc:\\Users\\user\\anaconda3\\Lib\\site-packages\\pandas\\core\\frame.py\u001b[0m in \u001b[0;36m?\u001b[1;34m(self, by, axis, ascending, inplace, kind, na_position, ignore_index, key)\u001b[0m\n\u001b[0;32m   7185\u001b[0m             \u001b[1;33m)\u001b[0m\u001b[1;33m\u001b[0m\u001b[1;33m\u001b[0m\u001b[0m\n\u001b[0;32m   7186\u001b[0m         \u001b[1;32melif\u001b[0m \u001b[0mlen\u001b[0m\u001b[1;33m(\u001b[0m\u001b[0mby\u001b[0m\u001b[1;33m)\u001b[0m\u001b[1;33m:\u001b[0m\u001b[1;33m\u001b[0m\u001b[1;33m\u001b[0m\u001b[0m\n\u001b[0;32m   7187\u001b[0m             \u001b[1;31m# len(by) == 1\u001b[0m\u001b[1;33m\u001b[0m\u001b[1;33m\u001b[0m\u001b[0m\n\u001b[0;32m   7188\u001b[0m \u001b[1;33m\u001b[0m\u001b[0m\n\u001b[1;32m-> 7189\u001b[1;33m             \u001b[0mk\u001b[0m \u001b[1;33m=\u001b[0m \u001b[0mself\u001b[0m\u001b[1;33m.\u001b[0m\u001b[0m_get_label_or_level_values\u001b[0m\u001b[1;33m(\u001b[0m\u001b[0mby\u001b[0m\u001b[1;33m[\u001b[0m\u001b[1;36m0\u001b[0m\u001b[1;33m]\u001b[0m\u001b[1;33m,\u001b[0m \u001b[0maxis\u001b[0m\u001b[1;33m=\u001b[0m\u001b[0maxis\u001b[0m\u001b[1;33m)\u001b[0m\u001b[1;33m\u001b[0m\u001b[1;33m\u001b[0m\u001b[0m\n\u001b[0m\u001b[0;32m   7190\u001b[0m \u001b[1;33m\u001b[0m\u001b[0m\n\u001b[0;32m   7191\u001b[0m             \u001b[1;31m# need to rewrap column in Series to apply key function\u001b[0m\u001b[1;33m\u001b[0m\u001b[1;33m\u001b[0m\u001b[0m\n\u001b[0;32m   7192\u001b[0m             \u001b[1;32mif\u001b[0m \u001b[0mkey\u001b[0m \u001b[1;32mis\u001b[0m \u001b[1;32mnot\u001b[0m \u001b[1;32mNone\u001b[0m\u001b[1;33m:\u001b[0m\u001b[1;33m\u001b[0m\u001b[1;33m\u001b[0m\u001b[0m\n",
      "\u001b[1;32mc:\\Users\\user\\anaconda3\\Lib\\site-packages\\pandas\\core\\generic.py\u001b[0m in \u001b[0;36m?\u001b[1;34m(self, key, axis)\u001b[0m\n\u001b[0;32m   1907\u001b[0m             \u001b[0mvalues\u001b[0m \u001b[1;33m=\u001b[0m \u001b[0mself\u001b[0m\u001b[1;33m.\u001b[0m\u001b[0mxs\u001b[0m\u001b[1;33m(\u001b[0m\u001b[0mkey\u001b[0m\u001b[1;33m,\u001b[0m \u001b[0maxis\u001b[0m\u001b[1;33m=\u001b[0m\u001b[0mother_axes\u001b[0m\u001b[1;33m[\u001b[0m\u001b[1;36m0\u001b[0m\u001b[1;33m]\u001b[0m\u001b[1;33m)\u001b[0m\u001b[1;33m.\u001b[0m\u001b[0m_values\u001b[0m\u001b[1;33m\u001b[0m\u001b[1;33m\u001b[0m\u001b[0m\n\u001b[0;32m   1908\u001b[0m         \u001b[1;32melif\u001b[0m \u001b[0mself\u001b[0m\u001b[1;33m.\u001b[0m\u001b[0m_is_level_reference\u001b[0m\u001b[1;33m(\u001b[0m\u001b[0mkey\u001b[0m\u001b[1;33m,\u001b[0m \u001b[0maxis\u001b[0m\u001b[1;33m=\u001b[0m\u001b[0maxis\u001b[0m\u001b[1;33m)\u001b[0m\u001b[1;33m:\u001b[0m\u001b[1;33m\u001b[0m\u001b[1;33m\u001b[0m\u001b[0m\n\u001b[0;32m   1909\u001b[0m             \u001b[0mvalues\u001b[0m \u001b[1;33m=\u001b[0m \u001b[0mself\u001b[0m\u001b[1;33m.\u001b[0m\u001b[0maxes\u001b[0m\u001b[1;33m[\u001b[0m\u001b[0maxis\u001b[0m\u001b[1;33m]\u001b[0m\u001b[1;33m.\u001b[0m\u001b[0mget_level_values\u001b[0m\u001b[1;33m(\u001b[0m\u001b[0mkey\u001b[0m\u001b[1;33m)\u001b[0m\u001b[1;33m.\u001b[0m\u001b[0m_values\u001b[0m\u001b[1;33m\u001b[0m\u001b[1;33m\u001b[0m\u001b[0m\n\u001b[0;32m   1910\u001b[0m         \u001b[1;32melse\u001b[0m\u001b[1;33m:\u001b[0m\u001b[1;33m\u001b[0m\u001b[1;33m\u001b[0m\u001b[0m\n\u001b[1;32m-> 1911\u001b[1;33m             \u001b[1;32mraise\u001b[0m \u001b[0mKeyError\u001b[0m\u001b[1;33m(\u001b[0m\u001b[0mkey\u001b[0m\u001b[1;33m)\u001b[0m\u001b[1;33m\u001b[0m\u001b[1;33m\u001b[0m\u001b[0m\n\u001b[0m\u001b[0;32m   1912\u001b[0m \u001b[1;33m\u001b[0m\u001b[0m\n\u001b[0;32m   1913\u001b[0m         \u001b[1;31m# Check for duplicates\u001b[0m\u001b[1;33m\u001b[0m\u001b[1;33m\u001b[0m\u001b[0m\n\u001b[0;32m   1914\u001b[0m         \u001b[1;32mif\u001b[0m \u001b[0mvalues\u001b[0m\u001b[1;33m.\u001b[0m\u001b[0mndim\u001b[0m \u001b[1;33m>\u001b[0m \u001b[1;36m1\u001b[0m\u001b[1;33m:\u001b[0m\u001b[1;33m\u001b[0m\u001b[1;33m\u001b[0m\u001b[0m\n",
      "\u001b[1;31mKeyError\u001b[0m: 'lprice'"
     ]
    }
   ],
   "source": [
    "expensive_shops = df[df['lprice'] <= 50000]  \n",
    "expensive_shops = expensive_shops[['title', 'link', 'image']]  \n",
    "expensive_shops = expensive_shops.sort_values(by='lprice', ascending=False).reset_index(drop=True)  \n",
    "\n",
    "print(expensive_shops)\n"
   ]
  },
  {
   "cell_type": "markdown",
   "id": "409b3a8d",
   "metadata": {},
   "source": [
    "### 4. 질문 :  검색어로  찾은  Shop의 상품  목록 중에서 특정 쇼핑몰 상품만 출력하기"
   ]
  },
  {
   "cell_type": "code",
   "execution_count": null,
   "id": "597db38c",
   "metadata": {},
   "outputs": [
    {
     "name": "stdout",
     "output_type": "stream",
     "text": [
      "                                                title  \\\n",
      "0   제너럴아이디어 WOMAN GNRL 에센셜 베이직 <b>카디건</b> 11COL WB...   \n",
      "1              H&amp;M HM 파인 니트 <b>가디건</b> 0579541001   \n",
      "2                     벤시몽 여성 코튼 블렌드 케이블 <b>가디건</b> 3종   \n",
      "3   제너럴아이디어 GENERALIDEA WOMAN 에센셜 크루넥 <b>가디건</b> 4...   \n",
      "4             라코스테 남성 베이직 V넥 방모 <b>가디건</b> AH560E-54N   \n",
      "5             비비안웨스트우드 여성 베아 울 실크 <b>가디건</b> 1803001Z   \n",
      "6                         벤시몽 여성 케이블 니트 <b>가디건</b> 3종   \n",
      "7              쉬즈미스 메탈 라운드넥 니트 <b>가디건</b> SSKCDO31060   \n",
      "8               리스트 라운드넥 버튼 니트 <b>가디건</b> TSKCDO72010   \n",
      "9             라코스테 남성 피케 조직 V넥 울<b>가디건</b> AH697E-54N   \n",
      "10                         셀렙샵에디션 알파카 캔디 니트<b>가디건</b>   \n",
      "11                   모르간 24FW 반팔 울 니트<b>가디건</b> 3종 88   \n",
      "\n",
      "                                                 link  \\\n",
      "0   https://search.shopping.naver.com/catalog/5328...   \n",
      "1   https://search.shopping.naver.com/catalog/5178...   \n",
      "2   https://search.shopping.naver.com/catalog/5323...   \n",
      "3   https://search.shopping.naver.com/catalog/4954...   \n",
      "4   https://search.shopping.naver.com/catalog/4971...   \n",
      "5   https://search.shopping.naver.com/catalog/4347...   \n",
      "6   https://search.shopping.naver.com/catalog/5337...   \n",
      "7   https://search.shopping.naver.com/catalog/4962...   \n",
      "8   https://search.shopping.naver.com/catalog/5114...   \n",
      "9   https://search.shopping.naver.com/catalog/5070...   \n",
      "10  https://search.shopping.naver.com/catalog/5302...   \n",
      "11  https://search.shopping.naver.com/catalog/5050...   \n",
      "\n",
      "                                                image  lprice hprice mallName  \\\n",
      "0   https://shopping-phinf.pstatic.net/main_532872...   32400             네이버   \n",
      "1   https://shopping-phinf.pstatic.net/main_517816...   17512             네이버   \n",
      "2   https://shopping-phinf.pstatic.net/main_532327...   44910             네이버   \n",
      "3   https://shopping-phinf.pstatic.net/main_495414...   31416             네이버   \n",
      "4   https://shopping-phinf.pstatic.net/main_497141...   80100             네이버   \n",
      "5   https://shopping-phinf.pstatic.net/main_434751...   28070             네이버   \n",
      "6   https://shopping-phinf.pstatic.net/main_533736...   37650             네이버   \n",
      "7   https://shopping-phinf.pstatic.net/main_496254...   36910             네이버   \n",
      "8   https://shopping-phinf.pstatic.net/main_511437...   23000             네이버   \n",
      "9   https://shopping-phinf.pstatic.net/main_507059...  174090             네이버   \n",
      "10  https://shopping-phinf.pstatic.net/main_530208...   53900             네이버   \n",
      "11  https://shopping-phinf.pstatic.net/main_505046...   37160             네이버   \n",
      "\n",
      "      productId  productType category1 category2 category3 category4  \n",
      "0   53287208769            1      패션의류      여성의류       카디건            \n",
      "1   51781610172            1      패션의류      여성의류       카디건            \n",
      "2   53232763110            1      패션의류      여성의류       카디건            \n",
      "3   49541497760            1      패션의류      여성의류       카디건            \n",
      "4   49714141886            1      패션의류      남성의류       카디건            \n",
      "5   43475137325            1      패션의류      여성의류       카디건            \n",
      "6   53373694627            1      패션의류      여성의류       카디건            \n",
      "7   49625464649            1      패션의류      여성의류       카디건            \n",
      "8   51143733510            1      패션의류      여성의류       카디건            \n",
      "9   50705955349            1      패션의류      남성의류       카디건            \n",
      "10  53020866519            1      패션의류      여성의류       카디건            \n",
      "11  50504636053            1      패션의류      여성의류       카디건            \n"
     ]
    }
   ],
   "source": [
    "def get_mallName_shops(df, mallName_name):\n",
    "    mallName_shops = df[df['mallName'] == mallName_name]\n",
    "    \n",
    "    mallName_shops = mallName_shops.drop(columns=['brand', 'maker']).reset_index(drop=True)\n",
    "    \n",
    "    return mallName_shops\n",
    "\n",
    "naver_shops = get_mallName_shops(df, \"네이버\")\n",
    "print(naver_shops)"
   ]
  }
 ],
 "metadata": {
  "kernelspec": {
   "display_name": "base",
   "language": "python",
   "name": "python3"
  },
  "language_info": {
   "codemirror_mode": {
    "name": "ipython",
    "version": 3
   },
   "file_extension": ".py",
   "mimetype": "text/x-python",
   "name": "python",
   "nbconvert_exporter": "python",
   "pygments_lexer": "ipython3",
   "version": "3.12.7"
  }
 },
 "nbformat": 4,
 "nbformat_minor": 5
}
