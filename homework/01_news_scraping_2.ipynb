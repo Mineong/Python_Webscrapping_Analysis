{
 "cells": [
  {
   "cell_type": "markdown",
   "id": "8c585dcf",
   "metadata": {},
   "source": [
    "## 2. Nate 뉴스기사 제목 스크래핑하기"
   ]
  },
  {
   "cell_type": "markdown",
   "id": "c7289c11",
   "metadata": {},
   "source": [
    "### 2-1 최신뉴스, 정치 , 경제, 사회, 세계, IT/과학   6개의 섹션의 뉴스를 출력하는 함수를 생성하여 스크래핑 하기 (필수)"
   ]
  },
  {
   "cell_type": "code",
   "execution_count": null,
   "id": "f31f872e",
   "metadata": {},
   "outputs": [],
   "source": [
    "import requests\n",
    "from bs4 import BeautifulSoup\n",
    "from urllib.parse import urljoin\n",
    "from IPython.display import Image, display\n",
    "\n",
    "section_dict = {\n",
    "    100: \"최신뉴스\",\n",
    "    200: \"정치\",\n",
    "    300: \"경제\",\n",
    "    400: \"사회\",\n",
    "    500: \"세계\",\n",
    "    600: \"IT/과학\",\n",
    "}\n",
    "\n",
    "def print_news(section_code):\n",
    "    section_name = section_dict.get(section_code)\n",
    "    \n",
    "    if section_name is None:\n",
    "        print('요청하신 키값이 없습니다.')\n",
    "        return\n",
    "\n",
    "    url = f'https://news.nate.com/recent?mid=n{section_code}'\n",
    "    \n",
    "    print(f'======> {section_name} <======')\n",
    "\n",
    "    headers = {\n",
    "        'User-Agent': 'Mozilla/5.0 (Windows NT 10.0; Win64; x64) AppleWebKit/537.36 (KHTML, like Gecko) Chrome/104.0.0.0 Safari/537.36'\n",
    "    }\n",
    "\n",
    "    res = requests.get(url, headers=headers)\n",
    "\n",
    "    if res.ok:\n",
    "        res.encoding = 'utf-8'\n",
    "        soup = BeautifulSoup(res.text, 'html.parser')\n",
    "\n",
    "        div_tag_list = soup.select('div.mlt01')\n",
    "\n",
    "        for div_tag in div_tag_list:\n",
    "            a_tag = div_tag.find('a')\n",
    "            \n",
    "\n",
    "            link = a_tag['href']\n",
    "            title_tag = a_tag.select_one('span.ib')\n",
    "            title = title_tag.text.strip() \n",
    "\n",
    "            print(title)\n",
    "            print(link)\n",
    "\n",
    "            # 이미지 처리\n",
    "            img_tag = a_tag.find('img')\n",
    "            if img_tag and img_tag.has_attr('src'):\n",
    "                img_url = urljoin(\"https://news.nate.com\", img_tag['src'])\n",
    "                print(img_url)\n",
    "                display(Image(url=img_url))\n",
    "            \n",
    "    else:\n",
    "        print(f'에러코드 = {res.status_code}')\n"
   ]
  },
  {
   "cell_type": "code",
   "execution_count": null,
   "id": "0bbbae79",
   "metadata": {},
   "outputs": [],
   "source": [
    "print_news(100)  # 최신뉴스\n",
    "print_news(200)  # 정치"
   ]
  },
  {
   "cell_type": "markdown",
   "id": "87517376",
   "metadata": {},
   "source": [
    "### 2-2. 하나의 네이버 웹툰과 1개의 회차에 대한 Image 다운로드 하기 (필수)\n"
   ]
  },
  {
   "cell_type": "code",
   "execution_count": null,
   "id": "28403dd8",
   "metadata": {},
   "outputs": [],
   "source": []
  },
  {
   "cell_type": "markdown",
   "id": "27a3c34b",
   "metadata": {},
   "source": [
    "### 2-3. 하나의 네이버 웹툰과 여러개의 회차에 대한 Image 다운로드 하기 (선택)\n"
   ]
  },
  {
   "cell_type": "code",
   "execution_count": null,
   "id": "cb9afc0f",
   "metadata": {},
   "outputs": [],
   "source": []
  },
  {
   "cell_type": "markdown",
   "id": "1bc62344",
   "metadata": {},
   "source": [
    "## 3. unsplash Image 다운로드"
   ]
  },
  {
   "cell_type": "code",
   "execution_count": null,
   "id": "c4db3830",
   "metadata": {},
   "outputs": [],
   "source": []
  },
  {
   "cell_type": "markdown",
   "id": "d77daef1",
   "metadata": {},
   "source": []
  }
 ],
 "metadata": {
  "kernelspec": {
   "display_name": "base",
   "language": "python",
   "name": "python3"
  },
  "language_info": {
   "codemirror_mode": {
    "name": "ipython",
    "version": 3
   },
   "file_extension": ".py",
   "mimetype": "text/x-python",
   "name": "python",
   "nbconvert_exporter": "python",
   "pygments_lexer": "ipython3",
   "version": "3.12.7"
  }
 },
 "nbformat": 4,
 "nbformat_minor": 5
}
