{
 "cells": [
  {
   "cell_type": "markdown",
   "id": "8c585dcf",
   "metadata": {},
   "source": [
    "## 2. Nate 뉴스기사 제목 스크래핑하기"
   ]
  },
  {
   "cell_type": "markdown",
   "id": "c7289c11",
   "metadata": {},
   "source": [
    "### 2-1 최신뉴스, 정치 , 경제, 사회, 세계, IT/과학   6개의 섹션의 뉴스를 출력하는 함수를 생성하여 스크래핑 하기 (필수)"
   ]
  },
  {
   "cell_type": "code",
   "execution_count": null,
   "id": "f31f872e",
   "metadata": {},
   "outputs": [],
   "source": [
    "import requests\n",
    "from bs4 import BeautifulSoup\n",
    "from urllib.parse import urljoin\n",
    "from IPython.display import Image, display\n",
    "\n",
    "section_dict = {\n",
    "    100: \"최신뉴스\",\n",
    "    200: \"정치\",\n",
    "    300: \"경제\",\n",
    "    400: \"사회\",\n",
    "    500: \"세계\",\n",
    "    600: \"IT/과학\",\n",
    "}\n",
    "\n",
    "def print_news(section_code):\n",
    "    section_name = section_dict.get(section_code)\n",
    "    \n",
    "    if section_name is None:\n",
    "        print('요청하신 키값이 없습니다.')\n",
    "        return\n",
    "\n",
    "    url = f'https://news.nate.com/recent?mid=n{section_code}'\n",
    "    \n",
    "    print(f'======> {section_name} <======')\n",
    "\n",
    "    headers = {\n",
    "        'User-Agent': 'Mozilla/5.0 (Windows NT 10.0; Win64; x64) AppleWebKit/537.36 (KHTML, like Gecko) Chrome/104.0.0.0 Safari/537.36'\n",
    "    }\n",
    "\n",
    "    res = requests.get(url, headers=headers)\n",
    "\n",
    "    if res.ok:\n",
    "        res.encoding = 'utf-8'\n",
    "        soup = BeautifulSoup(res.text, 'html.parser')\n",
    "\n",
    "        div_tag_list = soup.select('div.mlt01')\n",
    "\n",
    "        for div_tag in div_tag_list:\n",
    "            a_tag = div_tag.find('a')\n",
    "            \n",
    "\n",
    "            link = a_tag['href']\n",
    "            title_tag = a_tag.select_one('span.ib')\n",
    "            title = title_tag.text.strip() \n",
    "\n",
    "            print(title)\n",
    "            print(link)\n",
    "\n",
    "            # 이미지 처리\n",
    "            img_tag = a_tag.find('img')\n",
    "            if img_tag and img_tag.has_attr('src'):\n",
    "                img_url = urljoin(\"https://news.nate.com\", img_tag['src'])\n",
    "                print(img_url)\n",
    "                display(Image(url=img_url))\n",
    "            \n",
    "    else:\n",
    "        print(f'에러코드 = {res.status_code}')\n"
   ]
  },
  {
   "cell_type": "code",
   "execution_count": null,
   "id": "0bbbae79",
   "metadata": {},
   "outputs": [],
   "source": [
    "print_news(100)  # 최신뉴스\n",
    "print_news(200)  # 정치"
   ]
  },
  {
   "cell_type": "markdown",
   "id": "87517376",
   "metadata": {},
   "source": [
    "### 2-2. 하나의 네이버 웹툰과 1개의 회차에 대한 Image 다운로드 하기 (필수)\n"
   ]
  },
  {
   "cell_type": "code",
   "execution_count": 33,
   "id": "28403dd8",
   "metadata": {},
   "outputs": [],
   "source": [
    "import requests\n",
    "import os\n",
    "from bs4 import BeautifulSoup\n",
    "\n",
    "def fetch_page(url, req_header):\n",
    "    res = requests.get(url, headers=req_header)\n",
    "    if res.ok:\n",
    "        return res.text\n",
    "    else:\n",
    "        print(f'에러코드: {res.status_code}')\n",
    "        return None\n",
    "\n",
    "def get_img_url_list(html):\n",
    "    soup = BeautifulSoup(html, 'html.parser')\n",
    "    \n",
    "    img_tags = soup.select(\"img[src*='IMAG01']\")\n",
    "    img_url_list = []\n",
    "    for img_tag in img_tags:\n",
    "        img_src = img_tag['src']\n",
    "        img_url_list.append(img_src)\n",
    "    return img_url_list\n",
    "\n",
    "def create_img_dir(imgdir_name):\n",
    "    os.makedirs(imgdir_name, exist_ok=True)\n",
    "\n",
    "def download_imgs(img_url_list, imgdir_name, req_header):\n",
    "    for img_url in img_url_list:\n",
    "        res = requests.get(img_url, headers=req_header)\n",
    "        if res.ok:\n",
    "            img_data = res.content\n",
    "            file_name = os.path.basename(img_url)\n",
    "            file_path = os.path.join(imgdir_name, file_name)\n",
    "            with open(file_path, 'wb') as file:\n",
    "                print(f'Writing to {file_path}({len(img_data):,} bytes)')\n",
    "                file.write(img_data)\n",
    "        else:\n",
    "            print(f'이미지 다운로드 실패: {img_url}, 상태코드: {res.status_code}')\n",
    "\n",
    "def main(title, no, url):\n",
    "    url = 'https://comic.naver.com/webtoon/detail?titleId=833255&no=44&week=tue'\n",
    "    req_header = {\n",
    "        'referer': 'url',\n",
    "        'user-agent': 'Mozilla/5.0 (Windows NT 10.0; Win64; x64) AppleWebKit/537.36 (KHTML, like Gecko) Chrome/104.0.0.0 Safari/537.36'\n",
    "    }\n",
    "    imgdir_name = os.path.join('img', title, str(no))\n",
    "\n",
    "    html = fetch_page(url, req_header)\n",
    "    if html:\n",
    "        img_url_list = get_img_url_list(html)\n",
    "        create_img_dir(imgdir_name)\n",
    "        download_imgs(img_url_list, imgdir_name, req_header)\n"
   ]
  },
  {
   "cell_type": "code",
   "execution_count": 34,
   "id": "e2154f4b",
   "metadata": {},
   "outputs": [
    {
     "name": "stdout",
     "output_type": "stream",
     "text": [
      "Writing to img\\낢이사는이야기\\48\\20250211121545_dc7fce97ccfd61325bd1c797038e14e1_IMAG01_1.jpg(179,042 bytes)\n",
      "Writing to img\\낢이사는이야기\\48\\20250211121545_dc7fce97ccfd61325bd1c797038e14e1_IMAG01_2.jpg(124,150 bytes)\n",
      "Writing to img\\낢이사는이야기\\48\\20250211121545_dc7fce97ccfd61325bd1c797038e14e1_IMAG01_3.jpg(102,386 bytes)\n",
      "Writing to img\\낢이사는이야기\\48\\20250211121545_dc7fce97ccfd61325bd1c797038e14e1_IMAG01_4.jpg(153,009 bytes)\n",
      "Writing to img\\낢이사는이야기\\48\\20250211121545_dc7fce97ccfd61325bd1c797038e14e1_IMAG01_5.jpg(191,207 bytes)\n",
      "Writing to img\\낢이사는이야기\\48\\20250211121545_dc7fce97ccfd61325bd1c797038e14e1_IMAG01_6.jpg(219,719 bytes)\n",
      "Writing to img\\낢이사는이야기\\48\\20250211121545_dc7fce97ccfd61325bd1c797038e14e1_IMAG01_7.jpg(83,635 bytes)\n",
      "Writing to img\\낢이사는이야기\\48\\20250211121545_dc7fce97ccfd61325bd1c797038e14e1_IMAG01_8.jpg(170,745 bytes)\n",
      "Writing to img\\낢이사는이야기\\48\\20250211121545_dc7fce97ccfd61325bd1c797038e14e1_IMAG01_9.jpg(168,728 bytes)\n",
      "Writing to img\\낢이사는이야기\\48\\20250211121545_dc7fce97ccfd61325bd1c797038e14e1_IMAG01_10.jpg(146,338 bytes)\n",
      "Writing to img\\낢이사는이야기\\48\\20250211121545_dc7fce97ccfd61325bd1c797038e14e1_IMAG01_11.jpg(128,799 bytes)\n",
      "Writing to img\\낢이사는이야기\\48\\20250211121545_dc7fce97ccfd61325bd1c797038e14e1_IMAG01_12.jpg(86,797 bytes)\n",
      "Writing to img\\낢이사는이야기\\48\\20250211121545_dc7fce97ccfd61325bd1c797038e14e1_IMAG01_13.jpg(98,519 bytes)\n",
      "Writing to img\\낢이사는이야기\\48\\20250211121545_dc7fce97ccfd61325bd1c797038e14e1_IMAG01_14.jpg(122,284 bytes)\n",
      "Writing to img\\낢이사는이야기\\48\\20250211121545_dc7fce97ccfd61325bd1c797038e14e1_IMAG01_15.jpg(146,969 bytes)\n",
      "Writing to img\\낢이사는이야기\\48\\20250211121545_dc7fce97ccfd61325bd1c797038e14e1_IMAG01_16.jpg(170,195 bytes)\n",
      "Writing to img\\낢이사는이야기\\48\\20250211121545_dc7fce97ccfd61325bd1c797038e14e1_IMAG01_17.jpg(105,843 bytes)\n",
      "Writing to img\\낢이사는이야기\\48\\20250211121545_dc7fce97ccfd61325bd1c797038e14e1_IMAG01_18.jpg(136,296 bytes)\n",
      "Writing to img\\낢이사는이야기\\48\\20250211121545_dc7fce97ccfd61325bd1c797038e14e1_IMAG01_19.jpg(131,967 bytes)\n",
      "Writing to img\\낢이사는이야기\\48\\20250211121545_dc7fce97ccfd61325bd1c797038e14e1_IMAG01_20.jpg(162,347 bytes)\n",
      "Writing to img\\낢이사는이야기\\48\\20250211121545_dc7fce97ccfd61325bd1c797038e14e1_IMAG01_21.jpg(153,485 bytes)\n",
      "Writing to img\\낢이사는이야기\\48\\20250211121545_dc7fce97ccfd61325bd1c797038e14e1_IMAG01_22.jpg(98,580 bytes)\n",
      "Writing to img\\낢이사는이야기\\48\\20250211121545_dc7fce97ccfd61325bd1c797038e14e1_IMAG01_23.jpg(3,091 bytes)\n"
     ]
    }
   ],
   "source": [
    "main('낢이사는이야기', 48, 'https://comic.naver.com/webtoon/detail?titleId=833255&no=49&week=tue')"
   ]
  },
  {
   "cell_type": "markdown",
   "id": "27a3c34b",
   "metadata": {},
   "source": [
    "### 2-3. 하나의 네이버 웹툰과 여러개의 회차에 대한 Image 다운로드 하기 (선택)\n"
   ]
  },
  {
   "cell_type": "code",
   "execution_count": null,
   "id": "cb9afc0f",
   "metadata": {},
   "outputs": [],
   "source": []
  },
  {
   "cell_type": "markdown",
   "id": "1bc62344",
   "metadata": {},
   "source": [
    "## 3. unsplash Image 다운로드"
   ]
  },
  {
   "cell_type": "code",
   "execution_count": 26,
   "id": "c4db3830",
   "metadata": {},
   "outputs": [
    {
     "name": "stdout",
     "output_type": "stream",
     "text": [
      "Note: you may need to restart the kernel to use updated packages.\n"
     ]
    }
   ],
   "source": [
    "%pip install -q selenium webdriver-manager"
   ]
  },
  {
   "cell_type": "code",
   "execution_count": 29,
   "id": "5490c959",
   "metadata": {},
   "outputs": [
    {
     "name": "stdout",
     "output_type": "stream",
     "text": [
      "이미지 40개를 찾았습니다.\n",
      "1번째 이미지 저장 완료.\n",
      "2번째 이미지 저장 완료.\n",
      "3번째 이미지 저장 완료.\n",
      "4번째 이미지 저장 완료.\n",
      "5번째 이미지 저장 완료.\n",
      "6번째 이미지 저장 완료.\n",
      "7번째 이미지 저장 완료.\n",
      "8번째 이미지 저장 완료.\n",
      "9번째 이미지 저장 완료.\n",
      "10번째 이미지 저장 완료.\n",
      "모든 작업이 완료되었습니다.\n"
     ]
    }
   ],
   "source": [
    "import os\n",
    "import time\n",
    "import requests\n",
    "from selenium import webdriver\n",
    "from selenium.webdriver.chrome.service import Service\n",
    "from webdriver_manager.chrome import ChromeDriverManager\n",
    "from selenium.webdriver.common.by import By\n",
    "\n",
    "# 1. 이미지 저장 폴더 생성\n",
    "save_folder = 'unsplash_img'\n",
    "os.makedirs(save_folder, exist_ok=True)\n",
    "\n",
    "# 2. Selenium WebDriver 설정\n",
    "options = webdriver.ChromeOptions()\n",
    "options.add_argument('--headless')  # 브라우저 GUI 없이 실행\n",
    "options.add_argument('--no-sandbox')\n",
    "options.add_argument('--disable-dev-shm-usage')\n",
    "\n",
    "driver = webdriver.Chrome(service=Service(ChromeDriverManager().install()), options=options)\n",
    "\n",
    "# 3. Unsplash 'cat' 이미지 검색 페이지 접속\n",
    "url = 'https://unsplash.com/s/photos/cat'\n",
    "driver.get(url)\n",
    "time.sleep(3)  # 페이지 로딩 대기\n",
    "\n",
    "# 4. 이미지 태그 찾기\n",
    "images = driver.find_elements(By.CSS_SELECTOR, 'img[srcset]')\n",
    "\n",
    "print(f\"이미지 {len(images)}개를 찾았습니다.\")\n",
    "\n",
    "# 5. 이미지 다운로드 (10개 정도 제한)\n",
    "count = 0\n",
    "for img in images:\n",
    "    src = img.get_attribute('src')\n",
    "    if src and \"images.unsplash.com\" in src:\n",
    "        try:\n",
    "            img_data = requests.get(src).content\n",
    "            with open(os.path.join(save_folder, f\"cat_{count+1}.jpg\"), 'wb') as f:\n",
    "                f.write(img_data)\n",
    "            print(f\"{count+1}번째 이미지 저장 완료.\")\n",
    "            count += 1\n",
    "            if count >= 10:\n",
    "                break\n",
    "        except Exception as e:\n",
    "            print(f\"이미지 저장 실패: {e}\")\n",
    "\n",
    "# 6. 브라우저 종료\n",
    "driver.quit()\n",
    "print(\"모든 작업이 완료되었습니다.\")\n"
   ]
  },
  {
   "cell_type": "markdown",
   "id": "d77daef1",
   "metadata": {},
   "source": []
  }
 ],
 "metadata": {
  "kernelspec": {
   "display_name": "base",
   "language": "python",
   "name": "python3"
  },
  "language_info": {
   "codemirror_mode": {
    "name": "ipython",
    "version": 3
   },
   "file_extension": ".py",
   "mimetype": "text/x-python",
   "name": "python",
   "nbconvert_exporter": "python",
   "pygments_lexer": "ipython3",
   "version": "3.12.7"
  }
 },
 "nbformat": 4,
 "nbformat_minor": 5
}
